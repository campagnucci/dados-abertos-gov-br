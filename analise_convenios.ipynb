{
 "cells": [
  {
   "cell_type": "markdown",
   "metadata": {},
   "source": [
    "# Análise exploratória dos dados de convênios do governo federal (Parte 1)"
   ]
  },
  {
   "cell_type": "markdown",
   "metadata": {},
   "source": [
    "Os dados utilizados nesta análise foram obtidos no Portal da Transparência, na [área de dados abertos](http://www.transparencia.gov.br/download-de-dados), e no momento do download estavam atualizados até 19 de abril de 2019. Estou deixando os dados originais neste repositório também. "
   ]
  },
  {
   "cell_type": "markdown",
   "metadata": {},
   "source": [
    "## Tópicos\n",
    "\n",
    "1. **Importando os dados**\n",
    "- **Entendendo a estrutura dos dados**\n",
    "    - Qual é o tamanho da base?\n",
    "    - Quais são as colunas e que tipo de dados contêm?\n",
    "    - Que tipos de convênios?\n",
    "    - Que status de convênios são possíveis?\n",
    "- **Tratamento dos dados**\n",
    "    - Convertendo os formatos de data\n",
    "    - Removendo os valores discrepantes\n",
    "- **Cruzando com a base de ordem bancária**\n",
    "- **Algunas análises básicas**\n",
    "    - Quanto foi liberado por tipo de convênio em toda a série histórica?\n",
    "    - Quanto foi liberado por ano no total?\n",
    "- **Algumas sugestões de melhoria para publicação dos dados**"
   ]
  },
  {
   "cell_type": "markdown",
   "metadata": {},
   "source": [
    "Os dados utilizados nesta análise foram obtidos no Portal da Transparência, na [área de dados abertos](http://www.transparencia.gov.br/download-de-dados), e no momento do download estavam atualizados até 19 de abril de 2019. \n",
    "\n",
    "![print do portal](https://github.com/campagnucci/dados-abertos-gov-br/blob/master/print_portal1.PNG)\n",
    "\n",
    "O arquivo compactado vem com duas planilhas em formato .csv. De acordo com a seção [\"Origem dos dados\"](http://www.transparencia.gov.br/origem-dos-dados ), as fontes são: \n",
    "\n",
    "* **Convênios** - Extraído do SICONV - Sistema de Convênios do ex-Ministério do Planejamento, Desenvolvimento e Gestão (hoje integrante do Ministério da Economia). \n",
    "* **Ordem Bancária** - Extraído do SIAFI - Sistema Integrado de Administração Financeira, da Secretaria do Tesouro Nacional.\n",
    "\n",
    "Um dicionário de variáveis para ambas as bases está disponível [neste link](http://www.portaldatransparencia.gov.br/pagina-interna/603415-dicionario-de-dados-convenios).  "
   ]
  },
  {
   "cell_type": "markdown",
   "metadata": {},
   "source": [
    "## Importando os dados"
   ]
  },
  {
   "cell_type": "code",
   "execution_count": 2,
   "metadata": {},
   "outputs": [],
   "source": [
    "%matplotlib inline \n",
    "\n",
    "import pandas as pd\n",
    "import seaborn as sns \n",
    "import pandas_profiling #esse pacote não vem instalado por padrão no Anaconda; fazer instalação antes"
   ]
  },
  {
   "cell_type": "markdown",
   "metadata": {},
   "source": [
    "O comando abaixo importa o arquivo no formato dataframe do pandas; configura o separador como ';', o dígito de decimais para ',', de forma que reconheça como campo numérico e a codificação, que por padrão é UTF-8:"
   ]
  },
  {
   "cell_type": "code",
   "execution_count": 4,
   "metadata": {},
   "outputs": [],
   "source": [
    "conv_df = pd.read_csv('20190419_Convenios.csv', sep=';', decimal=',', encoding='ISO-8859-1')"
   ]
  },
  {
   "cell_type": "code",
   "execution_count": 5,
   "metadata": {},
   "outputs": [
    {
     "data": {
      "text/html": [
       "<div>\n",
       "<style scoped>\n",
       "    .dataframe tbody tr th:only-of-type {\n",
       "        vertical-align: middle;\n",
       "    }\n",
       "\n",
       "    .dataframe tbody tr th {\n",
       "        vertical-align: top;\n",
       "    }\n",
       "\n",
       "    .dataframe thead th {\n",
       "        text-align: right;\n",
       "    }\n",
       "</style>\n",
       "<table border=\"1\" class=\"dataframe\">\n",
       "  <thead>\n",
       "    <tr style=\"text-align: right;\">\n",
       "      <th></th>\n",
       "      <th>NÚMERO CONVÊNIO</th>\n",
       "      <th>UF</th>\n",
       "      <th>CÓDIGO SIAFI MUNICÍPIO</th>\n",
       "      <th>NOME MUNICÍPIO</th>\n",
       "      <th>SITUAÇÃO CONVÊNIO</th>\n",
       "      <th>NÚMERO ORIGINAL</th>\n",
       "      <th>OBJETO DO CONVÊNIO</th>\n",
       "      <th>CÓDIGO ÓRGÃO SUPERIOR</th>\n",
       "      <th>NOME ÓRGÃO SUPERIOR</th>\n",
       "      <th>CÓDIGO ÓRGÃO CONCEDENTE</th>\n",
       "      <th>...</th>\n",
       "      <th>TIPO ENTE CONVENENTE</th>\n",
       "      <th>TIPO INSTRUMENTO</th>\n",
       "      <th>VALOR CONVÊNIO</th>\n",
       "      <th>VALOR LIBERADO</th>\n",
       "      <th>DATA PUBLICAÇÃO</th>\n",
       "      <th>DATA INÍCIO VIGÊNCIA</th>\n",
       "      <th>DATA FINAL VIGÊNCIA</th>\n",
       "      <th>VALOR CONTRAPARTIDA</th>\n",
       "      <th>DATA ÚLTIMA LIBERAÇÃO</th>\n",
       "      <th>VALOR ÚLTIMA LIBERAÇÃO</th>\n",
       "    </tr>\n",
       "  </thead>\n",
       "  <tbody>\n",
       "    <tr>\n",
       "      <th>0</th>\n",
       "      <td>104141</td>\n",
       "      <td>SP</td>\n",
       "      <td>6689</td>\n",
       "      <td>MAUA</td>\n",
       "      <td>CONCLUÍDO</td>\n",
       "      <td>2467/94/FAE</td>\n",
       "      <td>CONVENIO CELEBRADO ENTRE A FAE E A PM DE MAUA/...</td>\n",
       "      <td>26000</td>\n",
       "      <td>Ministério da Educação</td>\n",
       "      <td>26298</td>\n",
       "      <td>...</td>\n",
       "      <td>Municipal</td>\n",
       "      <td>Sem informação</td>\n",
       "      <td>2110457.00</td>\n",
       "      <td>2054267.71</td>\n",
       "      <td>28/03/1996</td>\n",
       "      <td>28/02/1996</td>\n",
       "      <td>28/02/1999</td>\n",
       "      <td>0.0</td>\n",
       "      <td>07/12/1995</td>\n",
       "      <td>0.00</td>\n",
       "    </tr>\n",
       "    <tr>\n",
       "      <th>1</th>\n",
       "      <td>104773</td>\n",
       "      <td>RS</td>\n",
       "      <td>8963</td>\n",
       "      <td>VIAMAO</td>\n",
       "      <td>ADIMPLENTE</td>\n",
       "      <td>2520/94/FAE</td>\n",
       "      <td>CONVENIO CELEBRADO ENTRE A FAE E P.M. DE VIAMA...</td>\n",
       "      <td>26000</td>\n",
       "      <td>Ministério da Educação</td>\n",
       "      <td>26298</td>\n",
       "      <td>...</td>\n",
       "      <td>Municipal</td>\n",
       "      <td>CONVENIO</td>\n",
       "      <td>515877.96</td>\n",
       "      <td>406200.76</td>\n",
       "      <td>19/03/1996</td>\n",
       "      <td>27/02/1996</td>\n",
       "      <td>28/02/1999</td>\n",
       "      <td>0.0</td>\n",
       "      <td>13/12/1995</td>\n",
       "      <td>0.00</td>\n",
       "    </tr>\n",
       "    <tr>\n",
       "      <th>2</th>\n",
       "      <td>112236</td>\n",
       "      <td>PE</td>\n",
       "      <td>2531</td>\n",
       "      <td>RECIFE</td>\n",
       "      <td>CONCLUÍDO</td>\n",
       "      <td>PG 096/94-00</td>\n",
       "      <td>EXECUCAO DE OBRAS E SERVICOS DE CONSTRUCAO ROD...</td>\n",
       "      <td>39000</td>\n",
       "      <td>Ministério dos Transportes, Portos e Aviação C...</td>\n",
       "      <td>39252</td>\n",
       "      <td>...</td>\n",
       "      <td>Municipal</td>\n",
       "      <td>Sem informação</td>\n",
       "      <td>19439537.00</td>\n",
       "      <td>17777924.41</td>\n",
       "      <td>24/12/1999</td>\n",
       "      <td>15/11/2002</td>\n",
       "      <td>28/06/2005</td>\n",
       "      <td>0.0</td>\n",
       "      <td>28/12/2004</td>\n",
       "      <td>0.00</td>\n",
       "    </tr>\n",
       "    <tr>\n",
       "      <th>3</th>\n",
       "      <td>116570</td>\n",
       "      <td>SP</td>\n",
       "      <td>6219</td>\n",
       "      <td>BAURU</td>\n",
       "      <td>CONCLUÍDO</td>\n",
       "      <td>1640/94</td>\n",
       "      <td>PROSSEGUIMENTO A OBRA DA NOVA UNIDADE DE INTER...</td>\n",
       "      <td>36000</td>\n",
       "      <td>Ministério da Saúde</td>\n",
       "      <td>36000</td>\n",
       "      <td>...</td>\n",
       "      <td>Estadual</td>\n",
       "      <td>Sem informação</td>\n",
       "      <td>5000000.00</td>\n",
       "      <td>5000000.00</td>\n",
       "      <td>27/02/1998</td>\n",
       "      <td>29/12/1995</td>\n",
       "      <td>30/06/1998</td>\n",
       "      <td>0.0</td>\n",
       "      <td>29/12/1994</td>\n",
       "      <td>0.00</td>\n",
       "    </tr>\n",
       "    <tr>\n",
       "      <th>4</th>\n",
       "      <td>120304</td>\n",
       "      <td>RJ</td>\n",
       "      <td>6001</td>\n",
       "      <td>RIO DE JANEIRO</td>\n",
       "      <td>CONCLUÍDO</td>\n",
       "      <td>01/93 8/9. T.A.</td>\n",
       "      <td>SUPLEMENTACAO DE RECURSOS A FIM DE CUMPRIR OS ...</td>\n",
       "      <td>36000</td>\n",
       "      <td>Ministério da Saúde</td>\n",
       "      <td>36201</td>\n",
       "      <td>...</td>\n",
       "      <td>Estadual</td>\n",
       "      <td>Sem informação</td>\n",
       "      <td>12741999.13</td>\n",
       "      <td>11415402.92</td>\n",
       "      <td>21/12/2000</td>\n",
       "      <td>24/11/1995</td>\n",
       "      <td>28/02/2002</td>\n",
       "      <td>0.0</td>\n",
       "      <td>19/12/2001</td>\n",
       "      <td>153846.11</td>\n",
       "    </tr>\n",
       "  </tbody>\n",
       "</table>\n",
       "<p>5 rows × 23 columns</p>\n",
       "</div>"
      ],
      "text/plain": [
       "   NÚMERO CONVÊNIO  UF  CÓDIGO SIAFI MUNICÍPIO  NOME MUNICÍPIO  \\\n",
       "0           104141  SP                    6689            MAUA   \n",
       "1           104773  RS                    8963          VIAMAO   \n",
       "2           112236  PE                    2531          RECIFE   \n",
       "3           116570  SP                    6219           BAURU   \n",
       "4           120304  RJ                    6001  RIO DE JANEIRO   \n",
       "\n",
       "  SITUAÇÃO CONVÊNIO  NÚMERO ORIGINAL  \\\n",
       "0         CONCLUÍDO      2467/94/FAE   \n",
       "1        ADIMPLENTE      2520/94/FAE   \n",
       "2         CONCLUÍDO     PG 096/94-00   \n",
       "3         CONCLUÍDO          1640/94   \n",
       "4         CONCLUÍDO  01/93 8/9. T.A.   \n",
       "\n",
       "                                  OBJETO DO CONVÊNIO  CÓDIGO ÓRGÃO SUPERIOR  \\\n",
       "0  CONVENIO CELEBRADO ENTRE A FAE E A PM DE MAUA/...                  26000   \n",
       "1  CONVENIO CELEBRADO ENTRE A FAE E P.M. DE VIAMA...                  26000   \n",
       "2  EXECUCAO DE OBRAS E SERVICOS DE CONSTRUCAO ROD...                  39000   \n",
       "3  PROSSEGUIMENTO A OBRA DA NOVA UNIDADE DE INTER...                  36000   \n",
       "4  SUPLEMENTACAO DE RECURSOS A FIM DE CUMPRIR OS ...                  36000   \n",
       "\n",
       "                                 NOME ÓRGÃO SUPERIOR  CÓDIGO ÓRGÃO CONCEDENTE  \\\n",
       "0                             Ministério da Educação                    26298   \n",
       "1                             Ministério da Educação                    26298   \n",
       "2  Ministério dos Transportes, Portos e Aviação C...                    39252   \n",
       "3                                Ministério da Saúde                    36000   \n",
       "4                                Ministério da Saúde                    36201   \n",
       "\n",
       "   ... TIPO ENTE CONVENENTE TIPO INSTRUMENTO VALOR CONVÊNIO VALOR LIBERADO  \\\n",
       "0  ...            Municipal   Sem informação     2110457.00     2054267.71   \n",
       "1  ...            Municipal         CONVENIO      515877.96      406200.76   \n",
       "2  ...            Municipal   Sem informação    19439537.00    17777924.41   \n",
       "3  ...             Estadual   Sem informação     5000000.00     5000000.00   \n",
       "4  ...             Estadual   Sem informação    12741999.13    11415402.92   \n",
       "\n",
       "  DATA PUBLICAÇÃO  DATA INÍCIO VIGÊNCIA  DATA FINAL VIGÊNCIA  \\\n",
       "0      28/03/1996            28/02/1996           28/02/1999   \n",
       "1      19/03/1996            27/02/1996           28/02/1999   \n",
       "2      24/12/1999            15/11/2002           28/06/2005   \n",
       "3      27/02/1998            29/12/1995           30/06/1998   \n",
       "4      21/12/2000            24/11/1995           28/02/2002   \n",
       "\n",
       "  VALOR CONTRAPARTIDA DATA ÚLTIMA LIBERAÇÃO VALOR ÚLTIMA LIBERAÇÃO  \n",
       "0                 0.0            07/12/1995                   0.00  \n",
       "1                 0.0            13/12/1995                   0.00  \n",
       "2                 0.0            28/12/2004                   0.00  \n",
       "3                 0.0            29/12/1994                   0.00  \n",
       "4                 0.0            19/12/2001              153846.11  \n",
       "\n",
       "[5 rows x 23 columns]"
      ]
     },
     "execution_count": 5,
     "metadata": {},
     "output_type": "execute_result"
    }
   ],
   "source": [
    "conv_df.head()\n",
    "\n",
    "#visualiza as cinco primeiras linhas do arquivo importado"
   ]
  },
  {
   "cell_type": "markdown",
   "metadata": {},
   "source": [
    "## Entendendo a estrutura dos dados"
   ]
  },
  {
   "cell_type": "markdown",
   "metadata": {},
   "source": [
    "### Qual é o tamanho da base?"
   ]
  },
  {
   "cell_type": "code",
   "execution_count": 6,
   "metadata": {},
   "outputs": [
    {
     "data": {
      "text/plain": [
       "(516580, 23)"
      ]
     },
     "execution_count": 6,
     "metadata": {},
     "output_type": "execute_result"
    }
   ],
   "source": [
    "conv_df.shape\n",
    "\n",
    "# mostra a quantidade de registros (516.580 linhas) e colunas disponíveis"
   ]
  },
  {
   "cell_type": "code",
   "execution_count": 7,
   "metadata": {},
   "outputs": [
    {
     "data": {
      "text/plain": [
       "RangeIndex(start=0, stop=516580, step=1)"
      ]
     },
     "execution_count": 7,
     "metadata": {},
     "output_type": "execute_result"
    }
   ],
   "source": [
    "conv_df.index"
   ]
  },
  {
   "cell_type": "markdown",
   "metadata": {},
   "source": [
    "### Quais são as colunas e que tipo de dados contêm?"
   ]
  },
  {
   "cell_type": "code",
   "execution_count": 8,
   "metadata": {},
   "outputs": [
    {
     "data": {
      "text/plain": [
       "NÚMERO CONVÊNIO              int64\n",
       "UF                          object\n",
       "CÓDIGO SIAFI MUNICÍPIO       int64\n",
       "NOME MUNICÍPIO              object\n",
       "SITUAÇÃO CONVÊNIO           object\n",
       "NÚMERO ORIGINAL             object\n",
       "OBJETO DO CONVÊNIO          object\n",
       "CÓDIGO ÓRGÃO SUPERIOR        int64\n",
       "NOME ÓRGÃO SUPERIOR         object\n",
       "CÓDIGO ÓRGÃO CONCEDENTE      int64\n",
       "NOME ÓRGÃO CONCEDENTE       object\n",
       "CÓDIGO CONVENENTE           object\n",
       "NOME CONVENENTE             object\n",
       "TIPO ENTE CONVENENTE        object\n",
       "TIPO INSTRUMENTO            object\n",
       "VALOR CONVÊNIO             float64\n",
       "VALOR LIBERADO             float64\n",
       "DATA PUBLICAÇÃO             object\n",
       "DATA INÍCIO VIGÊNCIA        object\n",
       "DATA FINAL VIGÊNCIA         object\n",
       "VALOR CONTRAPARTIDA        float64\n",
       "DATA ÚLTIMA LIBERAÇÃO       object\n",
       "VALOR ÚLTIMA LIBERAÇÃO     float64\n",
       "dtype: object"
      ]
     },
     "execution_count": 8,
     "metadata": {},
     "output_type": "execute_result"
    }
   ],
   "source": [
    "conv_df.dtypes\n",
    "\n",
    "#mostra as colunas existentes e seus respectivos formatos"
   ]
  },
  {
   "cell_type": "markdown",
   "metadata": {},
   "source": [
    "### Que tipos de convênios?"
   ]
  },
  {
   "cell_type": "code",
   "execution_count": 9,
   "metadata": {},
   "outputs": [
    {
     "data": {
      "text/plain": [
       "array(['Municipal', 'Estadual'], dtype=object)"
      ]
     },
     "execution_count": 9,
     "metadata": {},
     "output_type": "execute_result"
    }
   ],
   "source": [
    "conv_df['TIPO ENTE CONVENENTE'].unique()"
   ]
  },
  {
   "cell_type": "markdown",
   "metadata": {},
   "source": [
    "Este ponto me chamou a atenção. Estão faltando os outros tipos (se Administração Pública, Entidade Sem Fins Lucrativos, Entidades Empresariais Privadas, Pessoa Física etc.). Volto ao ponto mais adiante."
   ]
  },
  {
   "cell_type": "code",
   "execution_count": 10,
   "metadata": {},
   "outputs": [
    {
     "data": {
      "text/plain": [
       "array(['Sem informação', 'CONVENIO', 'CONTRATO DE REPASSE',\n",
       "       'TERMO DE PARCERIA', 'ACORDO DE COOPERACAO TECNICA',\n",
       "       'TERMO DE COMPROMISSO', 'TRANSFERENCIA LEGAL', 'Não se aplica'],\n",
       "      dtype=object)"
      ]
     },
     "execution_count": 10,
     "metadata": {},
     "output_type": "execute_result"
    }
   ],
   "source": [
    "conv_df['TIPO INSTRUMENTO'].unique()"
   ]
  },
  {
   "cell_type": "markdown",
   "metadata": {},
   "source": [
    "### Quais status de convênio são possíveis?"
   ]
  },
  {
   "cell_type": "code",
   "execution_count": 11,
   "metadata": {},
   "outputs": [
    {
     "data": {
      "text/plain": [
       "array(['CONCLUÍDO', 'ADIMPLENTE', 'BAIXADO', 'INADIMPLÊNCIA SUSPENSA',\n",
       "       'ARQUIVADO', 'EXCLUÍDO', 'INADIMPLENTE', 'RESCINDIDO', 'CANCELADO',\n",
       "       'PRESTAÇÃO DE CONTAS REJEITADA',\n",
       "       'PRESTAÇÃO DE CONTAS ENVIADA PARA ANÁLISE',\n",
       "       'PRESTAÇÃO DE CONTAS EM COMPLEMENTAÇÃO',\n",
       "       'PRESTAÇÃO DE CONTAS APROVADA', 'PRESTAÇÃO DE CONTAS EM ANÁLISE',\n",
       "       'NORMAL', 'PRESTAÇÃO DE CONTAS APROVADA COM RESSALVAS',\n",
       "       'CONVÊNIO ANULADO', 'AGUARDANDO PRESTAÇÃO DE CONTAS',\n",
       "       'EM EXECUÇÃO', 'PRESTAÇÃO DE CONTAS INICIADA POR ANTECIPAÇÃO'],\n",
       "      dtype=object)"
      ]
     },
     "execution_count": 11,
     "metadata": {},
     "output_type": "execute_result"
    }
   ],
   "source": [
    "conv_df['SITUAÇÃO CONVÊNIO'].unique()"
   ]
  },
  {
   "cell_type": "markdown",
   "metadata": {},
   "source": [
    "### Bônus: Pandas Profiling "
   ]
  },
  {
   "cell_type": "markdown",
   "metadata": {},
   "source": [
    "Este recurso poupa bastante trabalho na análise exploratória (inclusive alguns passos que eu já havia feito anteriormente), embora muitas das informações geradas não façam sentido para a análise (por exemplo, fazer média de uma variável que é categórica, como o código de município)."
   ]
  },
  {
   "cell_type": "code",
   "execution_count": 1,
   "metadata": {},
   "outputs": [],
   "source": [
    "#pandas_profiling.ProfileReport(conv_df) \n",
    "\n",
    "#Não vou deixar a visualiação aqui porque fica muito grande "
   ]
  },
  {
   "cell_type": "markdown",
   "metadata": {},
   "source": [
    "Olhando para esses resultados, surgem alguns pontos interessantes:\n",
    "\n",
    "* Pela contagem de valores únicos do código do convenente, temos que **existem 42.678 entes/organizações únicos** no universo de mais de 500 mil registros - ou **8.3%** dos registros\n",
    "\n",
    "* Ministério da Saúde, da Educação e do Desenvolvimento Regional são os que tiveram maior quantidade de convênios\n",
    "\n",
    "* 52.3% dos convênios da base estão **concluídos**\n",
    "\n",
    "* Há um alto grau (80.8%) de registros preenchidos como **\"Sem informação\"** e **\"Não se aplica\"** no campo de \"TIPO DE INSTRUMENTO\", a analisar por quê.\n",
    "\n",
    "* O Valor Máximo de contrapartida é 9.461.500.000 (9,4 tri!) e provavelmente está errado. Deverá ser tirado da análise para não distorcer os gráficos. \n",
    "\n",
    "* O mesmo acontece com o Valor do Convênio: o registro máximo possui valor de 14.043.000.000 (14 tri); e Valor Liberado: 8.246.200.000 (8,2 tri). \n",
    "\n",
    "_PS: chequei esses valores no Portal da Transparência e também estão altos por lá quando se consulta a tabela. Mas para fazer os gráficos eles provavelmente foram tratados, pois a soma total é da ordem de 15bi_"
   ]
  },
  {
   "cell_type": "markdown",
   "metadata": {},
   "source": [
    "## Tratamento dos dados"
   ]
  },
  {
   "cell_type": "markdown",
   "metadata": {},
   "source": [
    "A primeira correção necessária para lidar com os dados é a conversão das colunas de data em formato que o pandas possa reconhecer. No caso dos campos numéricos que tratam de valor, a correção não será necessária porque no momento de importar os dados foi informado que o dígito decimal é uma vírgula, e as colunas já foram importadas corretamente como 'float'."
   ]
  },
  {
   "cell_type": "markdown",
   "metadata": {},
   "source": [
    "### Convertendo os formatos de data"
   ]
  },
  {
   "cell_type": "code",
   "execution_count": 12,
   "metadata": {},
   "outputs": [],
   "source": [
    "cols_data = ['DATA PUBLICAÇÃO','DATA INÍCIO VIGÊNCIA', 'DATA FINAL VIGÊNCIA', 'DATA ÚLTIMA LIBERAÇÃO']\n",
    "\n",
    "#seleciona apenas as colunas com informação sobre data"
   ]
  },
  {
   "cell_type": "code",
   "execution_count": 13,
   "metadata": {},
   "outputs": [],
   "source": [
    "conv_df[cols_data] = conv_df[cols_data].apply(pd.to_datetime, errors='coerce')"
   ]
  },
  {
   "cell_type": "markdown",
   "metadata": {},
   "source": [
    "### Removendo os valores discrepantes"
   ]
  },
  {
   "cell_type": "code",
   "execution_count": 14,
   "metadata": {},
   "outputs": [
    {
     "data": {
      "text/html": [
       "<div>\n",
       "<style scoped>\n",
       "    .dataframe tbody tr th:only-of-type {\n",
       "        vertical-align: middle;\n",
       "    }\n",
       "\n",
       "    .dataframe tbody tr th {\n",
       "        vertical-align: top;\n",
       "    }\n",
       "\n",
       "    .dataframe thead th {\n",
       "        text-align: right;\n",
       "    }\n",
       "</style>\n",
       "<table border=\"1\" class=\"dataframe\">\n",
       "  <thead>\n",
       "    <tr style=\"text-align: right;\">\n",
       "      <th></th>\n",
       "      <th>NÚMERO CONVÊNIO</th>\n",
       "      <th>UF</th>\n",
       "      <th>CÓDIGO SIAFI MUNICÍPIO</th>\n",
       "      <th>NOME MUNICÍPIO</th>\n",
       "      <th>SITUAÇÃO CONVÊNIO</th>\n",
       "      <th>NÚMERO ORIGINAL</th>\n",
       "      <th>OBJETO DO CONVÊNIO</th>\n",
       "      <th>CÓDIGO ÓRGÃO SUPERIOR</th>\n",
       "      <th>NOME ÓRGÃO SUPERIOR</th>\n",
       "      <th>CÓDIGO ÓRGÃO CONCEDENTE</th>\n",
       "      <th>...</th>\n",
       "      <th>TIPO ENTE CONVENENTE</th>\n",
       "      <th>TIPO INSTRUMENTO</th>\n",
       "      <th>VALOR CONVÊNIO</th>\n",
       "      <th>VALOR LIBERADO</th>\n",
       "      <th>DATA PUBLICAÇÃO</th>\n",
       "      <th>DATA INÍCIO VIGÊNCIA</th>\n",
       "      <th>DATA FINAL VIGÊNCIA</th>\n",
       "      <th>VALOR CONTRAPARTIDA</th>\n",
       "      <th>DATA ÚLTIMA LIBERAÇÃO</th>\n",
       "      <th>VALOR ÚLTIMA LIBERAÇÃO</th>\n",
       "    </tr>\n",
       "  </thead>\n",
       "  <tbody>\n",
       "    <tr>\n",
       "      <th>220068</th>\n",
       "      <td>521614</td>\n",
       "      <td>DF</td>\n",
       "      <td>9701</td>\n",
       "      <td>BRASILIA</td>\n",
       "      <td>CONCLUÍDO</td>\n",
       "      <td>TCV/001/MDS/2005</td>\n",
       "      <td>DESTINADO A TRANSFERENCIA DE RECURSOS ORÇAMENT...</td>\n",
       "      <td>55000</td>\n",
       "      <td>Ministério da Cidadania</td>\n",
       "      <td>55001</td>\n",
       "      <td>...</td>\n",
       "      <td>Municipal</td>\n",
       "      <td>Sem informação</td>\n",
       "      <td>1.404310e+10</td>\n",
       "      <td>0.000000e+00</td>\n",
       "      <td>2005-01-02</td>\n",
       "      <td>2005-01-02</td>\n",
       "      <td>2007-05-02</td>\n",
       "      <td>0.0</td>\n",
       "      <td>2006-12-15</td>\n",
       "      <td>0.0</td>\n",
       "    </tr>\n",
       "    <tr>\n",
       "      <th>284634</th>\n",
       "      <td>588595</td>\n",
       "      <td>DF</td>\n",
       "      <td>9701</td>\n",
       "      <td>BRASILIA</td>\n",
       "      <td>CONCLUÍDO</td>\n",
       "      <td>PORT.INTERM.05/2007</td>\n",
       "      <td>APROVA O PLANO DE TRABALHO QUE TRATA DA DESCEN...</td>\n",
       "      <td>55000</td>\n",
       "      <td>Ministério da Cidadania</td>\n",
       "      <td>55001</td>\n",
       "      <td>...</td>\n",
       "      <td>Municipal</td>\n",
       "      <td>Sem informação</td>\n",
       "      <td>1.354944e+10</td>\n",
       "      <td>0.000000e+00</td>\n",
       "      <td>2007-01-26</td>\n",
       "      <td>2007-01-26</td>\n",
       "      <td>2009-01-31</td>\n",
       "      <td>0.0</td>\n",
       "      <td>2008-12-30</td>\n",
       "      <td>0.0</td>\n",
       "    </tr>\n",
       "    <tr>\n",
       "      <th>368229</th>\n",
       "      <td>675336</td>\n",
       "      <td>DF</td>\n",
       "      <td>9701</td>\n",
       "      <td>BRASILIA</td>\n",
       "      <td>ADIMPLENTE</td>\n",
       "      <td>T.C - 80º</td>\n",
       "      <td>FIRMAR A COOPERAçãO TéCNICA ENTRE O MINISTÉRIO...</td>\n",
       "      <td>36000</td>\n",
       "      <td>Ministério da Saúde</td>\n",
       "      <td>36000</td>\n",
       "      <td>...</td>\n",
       "      <td>Municipal</td>\n",
       "      <td>ACORDO DE COOPERACAO TECNICA</td>\n",
       "      <td>9.086468e+09</td>\n",
       "      <td>8.246233e+09</td>\n",
       "      <td>2013-08-14</td>\n",
       "      <td>2013-04-26</td>\n",
       "      <td>2023-04-26</td>\n",
       "      <td>0.0</td>\n",
       "      <td>2018-10-15</td>\n",
       "      <td>245600000.0</td>\n",
       "    </tr>\n",
       "    <tr>\n",
       "      <th>197520</th>\n",
       "      <td>498455</td>\n",
       "      <td>DF</td>\n",
       "      <td>9701</td>\n",
       "      <td>BRASILIA</td>\n",
       "      <td>CONCLUÍDO</td>\n",
       "      <td>TC/MDSCF/1607/2004</td>\n",
       "      <td>DESCENTRALIZAçãO DE CREDITOS PARA O INSTITUTO ...</td>\n",
       "      <td>55000</td>\n",
       "      <td>Ministério da Cidadania</td>\n",
       "      <td>55001</td>\n",
       "      <td>...</td>\n",
       "      <td>Municipal</td>\n",
       "      <td>Sem informação</td>\n",
       "      <td>7.579889e+09</td>\n",
       "      <td>0.000000e+00</td>\n",
       "      <td>2004-01-29</td>\n",
       "      <td>2004-01-29</td>\n",
       "      <td>2005-03-31</td>\n",
       "      <td>0.0</td>\n",
       "      <td>2005-12-15</td>\n",
       "      <td>0.0</td>\n",
       "    </tr>\n",
       "    <tr>\n",
       "      <th>255303</th>\n",
       "      <td>559088</td>\n",
       "      <td>DF</td>\n",
       "      <td>9701</td>\n",
       "      <td>BRASILIA</td>\n",
       "      <td>CONCLUÍDO</td>\n",
       "      <td>PORT INTERM. 01/06</td>\n",
       "      <td>CONSTITUI OBJETO DO PRESENTE CONVENIO O ESTABE...</td>\n",
       "      <td>55000</td>\n",
       "      <td>Ministério da Cidadania</td>\n",
       "      <td>55001</td>\n",
       "      <td>...</td>\n",
       "      <td>Municipal</td>\n",
       "      <td>Sem informação</td>\n",
       "      <td>7.299618e+09</td>\n",
       "      <td>0.000000e+00</td>\n",
       "      <td>2006-01-06</td>\n",
       "      <td>2006-03-05</td>\n",
       "      <td>2006-12-31</td>\n",
       "      <td>0.0</td>\n",
       "      <td>2008-09-26</td>\n",
       "      <td>0.0</td>\n",
       "    </tr>\n",
       "  </tbody>\n",
       "</table>\n",
       "<p>5 rows × 23 columns</p>\n",
       "</div>"
      ],
      "text/plain": [
       "        NÚMERO CONVÊNIO  UF  CÓDIGO SIAFI MUNICÍPIO NOME MUNICÍPIO  \\\n",
       "220068           521614  DF                    9701       BRASILIA   \n",
       "284634           588595  DF                    9701       BRASILIA   \n",
       "368229           675336  DF                    9701       BRASILIA   \n",
       "197520           498455  DF                    9701       BRASILIA   \n",
       "255303           559088  DF                    9701       BRASILIA   \n",
       "\n",
       "       SITUAÇÃO CONVÊNIO      NÚMERO ORIGINAL  \\\n",
       "220068         CONCLUÍDO     TCV/001/MDS/2005   \n",
       "284634         CONCLUÍDO  PORT.INTERM.05/2007   \n",
       "368229        ADIMPLENTE            T.C - 80º   \n",
       "197520         CONCLUÍDO   TC/MDSCF/1607/2004   \n",
       "255303         CONCLUÍDO   PORT INTERM. 01/06   \n",
       "\n",
       "                                       OBJETO DO CONVÊNIO  \\\n",
       "220068  DESTINADO A TRANSFERENCIA DE RECURSOS ORÇAMENT...   \n",
       "284634  APROVA O PLANO DE TRABALHO QUE TRATA DA DESCEN...   \n",
       "368229  FIRMAR A COOPERAçãO TéCNICA ENTRE O MINISTÉRIO...   \n",
       "197520  DESCENTRALIZAçãO DE CREDITOS PARA O INSTITUTO ...   \n",
       "255303  CONSTITUI OBJETO DO PRESENTE CONVENIO O ESTABE...   \n",
       "\n",
       "        CÓDIGO ÓRGÃO SUPERIOR      NOME ÓRGÃO SUPERIOR  \\\n",
       "220068                  55000  Ministério da Cidadania   \n",
       "284634                  55000  Ministério da Cidadania   \n",
       "368229                  36000      Ministério da Saúde   \n",
       "197520                  55000  Ministério da Cidadania   \n",
       "255303                  55000  Ministério da Cidadania   \n",
       "\n",
       "        CÓDIGO ÓRGÃO CONCEDENTE  ... TIPO ENTE CONVENENTE  \\\n",
       "220068                    55001  ...            Municipal   \n",
       "284634                    55001  ...            Municipal   \n",
       "368229                    36000  ...            Municipal   \n",
       "197520                    55001  ...            Municipal   \n",
       "255303                    55001  ...            Municipal   \n",
       "\n",
       "                    TIPO INSTRUMENTO VALOR CONVÊNIO VALOR LIBERADO  \\\n",
       "220068                Sem informação   1.404310e+10   0.000000e+00   \n",
       "284634                Sem informação   1.354944e+10   0.000000e+00   \n",
       "368229  ACORDO DE COOPERACAO TECNICA   9.086468e+09   8.246233e+09   \n",
       "197520                Sem informação   7.579889e+09   0.000000e+00   \n",
       "255303                Sem informação   7.299618e+09   0.000000e+00   \n",
       "\n",
       "       DATA PUBLICAÇÃO  DATA INÍCIO VIGÊNCIA  DATA FINAL VIGÊNCIA  \\\n",
       "220068      2005-01-02            2005-01-02           2007-05-02   \n",
       "284634      2007-01-26            2007-01-26           2009-01-31   \n",
       "368229      2013-08-14            2013-04-26           2023-04-26   \n",
       "197520      2004-01-29            2004-01-29           2005-03-31   \n",
       "255303      2006-01-06            2006-03-05           2006-12-31   \n",
       "\n",
       "       VALOR CONTRAPARTIDA DATA ÚLTIMA LIBERAÇÃO VALOR ÚLTIMA LIBERAÇÃO  \n",
       "220068                 0.0            2006-12-15                    0.0  \n",
       "284634                 0.0            2008-12-30                    0.0  \n",
       "368229                 0.0            2018-10-15            245600000.0  \n",
       "197520                 0.0            2005-12-15                    0.0  \n",
       "255303                 0.0            2008-09-26                    0.0  \n",
       "\n",
       "[5 rows x 23 columns]"
      ]
     },
     "execution_count": 14,
     "metadata": {},
     "output_type": "execute_result"
    }
   ],
   "source": [
    "conv_df.sort_values(by=['VALOR CONVÊNIO'], ascending=False).head()\n",
    "\n",
    "#Visualiza os maiores valores"
   ]
  },
  {
   "cell_type": "code",
   "execution_count": 15,
   "metadata": {},
   "outputs": [],
   "source": [
    "conv_df_clean = conv_df.drop([220068, 284634])\n",
    "\n",
    "#Remove as duas primeiras linhas que parecem estar com erro no valor (ordem de trilhões)"
   ]
  },
  {
   "cell_type": "markdown",
   "metadata": {},
   "source": [
    "## Cruzando com a base de ordem bancária"
   ]
  },
  {
   "cell_type": "markdown",
   "metadata": {},
   "source": [
    "A base de convênios, na forma como está organizada, não é suficiente para entender quanto foi transferido para cada convênio ao longo do tempo.Isso porque a coluna 'Valor Liberado' parece acumular o montante transferido em todo o período de vigência do convênio. Para permitir análises desse tipo, vamos trazer também para o DataFrame a planilha de Ordens Bancárias, a partir do cruzamento com o Número do Convênio. "
   ]
  },
  {
   "cell_type": "code",
   "execution_count": 16,
   "metadata": {},
   "outputs": [],
   "source": [
    "ob_df = pd.read_csv('20190419_Convenios_OrdensBancarias.csv', sep=';', decimal=',', encoding='ISO-8859-1')"
   ]
  },
  {
   "cell_type": "code",
   "execution_count": 17,
   "metadata": {},
   "outputs": [
    {
     "data": {
      "text/html": [
       "<div>\n",
       "<style scoped>\n",
       "    .dataframe tbody tr th:only-of-type {\n",
       "        vertical-align: middle;\n",
       "    }\n",
       "\n",
       "    .dataframe tbody tr th {\n",
       "        vertical-align: top;\n",
       "    }\n",
       "\n",
       "    .dataframe thead th {\n",
       "        text-align: right;\n",
       "    }\n",
       "</style>\n",
       "<table border=\"1\" class=\"dataframe\">\n",
       "  <thead>\n",
       "    <tr style=\"text-align: right;\">\n",
       "      <th></th>\n",
       "      <th>NÚMERO CONVÊNIO</th>\n",
       "      <th>NÚMERO ORIGINAL</th>\n",
       "      <th>DATA EMISSÃO OB</th>\n",
       "      <th>NÚMERO DA ORDEM BANCÁRIA</th>\n",
       "      <th>VALOR LIBERADO</th>\n",
       "    </tr>\n",
       "  </thead>\n",
       "  <tbody>\n",
       "    <tr>\n",
       "      <th>0</th>\n",
       "      <td>101231</td>\n",
       "      <td>000694</td>\n",
       "      <td>15/06/1994</td>\n",
       "      <td>193099192111994OB003778</td>\n",
       "      <td>363.63</td>\n",
       "    </tr>\n",
       "    <tr>\n",
       "      <th>1</th>\n",
       "      <td>101231</td>\n",
       "      <td>000694</td>\n",
       "      <td>26/07/1994</td>\n",
       "      <td>193099192111994OB004794</td>\n",
       "      <td>2000.00</td>\n",
       "    </tr>\n",
       "    <tr>\n",
       "      <th>2</th>\n",
       "      <td>101231</td>\n",
       "      <td>000694</td>\n",
       "      <td>17/08/1994</td>\n",
       "      <td>193099192111994OB005257</td>\n",
       "      <td>5000.00</td>\n",
       "    </tr>\n",
       "    <tr>\n",
       "      <th>3</th>\n",
       "      <td>101231</td>\n",
       "      <td>000694</td>\n",
       "      <td>14/11/1994</td>\n",
       "      <td>193099192111994OB007298</td>\n",
       "      <td>5000.00</td>\n",
       "    </tr>\n",
       "    <tr>\n",
       "      <th>4</th>\n",
       "      <td>101231</td>\n",
       "      <td>000694</td>\n",
       "      <td>04/12/1995</td>\n",
       "      <td>193099192111995OB007379</td>\n",
       "      <td>13560.00</td>\n",
       "    </tr>\n",
       "  </tbody>\n",
       "</table>\n",
       "</div>"
      ],
      "text/plain": [
       "   NÚMERO CONVÊNIO NÚMERO ORIGINAL DATA EMISSÃO OB NÚMERO DA ORDEM BANCÁRIA  \\\n",
       "0           101231          000694      15/06/1994  193099192111994OB003778   \n",
       "1           101231          000694      26/07/1994  193099192111994OB004794   \n",
       "2           101231          000694      17/08/1994  193099192111994OB005257   \n",
       "3           101231          000694      14/11/1994  193099192111994OB007298   \n",
       "4           101231          000694      04/12/1995  193099192111995OB007379   \n",
       "\n",
       "   VALOR LIBERADO  \n",
       "0          363.63  \n",
       "1         2000.00  \n",
       "2         5000.00  \n",
       "3         5000.00  \n",
       "4        13560.00  "
      ]
     },
     "execution_count": 17,
     "metadata": {},
     "output_type": "execute_result"
    }
   ],
   "source": [
    "ob_df.head()"
   ]
  },
  {
   "cell_type": "code",
   "execution_count": 18,
   "metadata": {},
   "outputs": [
    {
     "data": {
      "text/plain": [
       "NÚMERO CONVÊNIO               int64\n",
       "NÚMERO ORIGINAL              object\n",
       "DATA EMISSÃO OB              object\n",
       "NÚMERO DA ORDEM BANCÁRIA     object\n",
       "VALOR LIBERADO              float64\n",
       "dtype: object"
      ]
     },
     "execution_count": 18,
     "metadata": {},
     "output_type": "execute_result"
    }
   ],
   "source": [
    "ob_df.dtypes"
   ]
  },
  {
   "cell_type": "code",
   "execution_count": 19,
   "metadata": {},
   "outputs": [],
   "source": [
    "ob_df['DATA EMISSÃO OB'] = ob_df['DATA EMISSÃO OB'].apply(pd.to_datetime, errors='coerce')\n",
    "#converte a coluna de data de objeto para o formato de data"
   ]
  },
  {
   "cell_type": "code",
   "execution_count": 20,
   "metadata": {},
   "outputs": [
    {
     "data": {
      "text/html": [
       "<div>\n",
       "<style scoped>\n",
       "    .dataframe tbody tr th:only-of-type {\n",
       "        vertical-align: middle;\n",
       "    }\n",
       "\n",
       "    .dataframe tbody tr th {\n",
       "        vertical-align: top;\n",
       "    }\n",
       "\n",
       "    .dataframe thead th {\n",
       "        text-align: right;\n",
       "    }\n",
       "</style>\n",
       "<table border=\"1\" class=\"dataframe\">\n",
       "  <thead>\n",
       "    <tr style=\"text-align: right;\">\n",
       "      <th></th>\n",
       "      <th>NÚMERO CONVÊNIO</th>\n",
       "      <th>NÚMERO ORIGINAL</th>\n",
       "      <th>DATA EMISSÃO OB</th>\n",
       "      <th>NÚMERO DA ORDEM BANCÁRIA</th>\n",
       "      <th>VALOR LIBERADO</th>\n",
       "    </tr>\n",
       "  </thead>\n",
       "  <tbody>\n",
       "    <tr>\n",
       "      <th>0</th>\n",
       "      <td>101231</td>\n",
       "      <td>000694</td>\n",
       "      <td>1994-06-15</td>\n",
       "      <td>193099192111994OB003778</td>\n",
       "      <td>363.63</td>\n",
       "    </tr>\n",
       "    <tr>\n",
       "      <th>1</th>\n",
       "      <td>101231</td>\n",
       "      <td>000694</td>\n",
       "      <td>1994-07-26</td>\n",
       "      <td>193099192111994OB004794</td>\n",
       "      <td>2000.00</td>\n",
       "    </tr>\n",
       "    <tr>\n",
       "      <th>2</th>\n",
       "      <td>101231</td>\n",
       "      <td>000694</td>\n",
       "      <td>1994-08-17</td>\n",
       "      <td>193099192111994OB005257</td>\n",
       "      <td>5000.00</td>\n",
       "    </tr>\n",
       "    <tr>\n",
       "      <th>3</th>\n",
       "      <td>101231</td>\n",
       "      <td>000694</td>\n",
       "      <td>1994-11-14</td>\n",
       "      <td>193099192111994OB007298</td>\n",
       "      <td>5000.00</td>\n",
       "    </tr>\n",
       "    <tr>\n",
       "      <th>4</th>\n",
       "      <td>101231</td>\n",
       "      <td>000694</td>\n",
       "      <td>1995-04-12</td>\n",
       "      <td>193099192111995OB007379</td>\n",
       "      <td>13560.00</td>\n",
       "    </tr>\n",
       "  </tbody>\n",
       "</table>\n",
       "</div>"
      ],
      "text/plain": [
       "   NÚMERO CONVÊNIO NÚMERO ORIGINAL DATA EMISSÃO OB NÚMERO DA ORDEM BANCÁRIA  \\\n",
       "0           101231          000694      1994-06-15  193099192111994OB003778   \n",
       "1           101231          000694      1994-07-26  193099192111994OB004794   \n",
       "2           101231          000694      1994-08-17  193099192111994OB005257   \n",
       "3           101231          000694      1994-11-14  193099192111994OB007298   \n",
       "4           101231          000694      1995-04-12  193099192111995OB007379   \n",
       "\n",
       "   VALOR LIBERADO  \n",
       "0          363.63  \n",
       "1         2000.00  \n",
       "2         5000.00  \n",
       "3         5000.00  \n",
       "4        13560.00  "
      ]
     },
     "execution_count": 20,
     "metadata": {},
     "output_type": "execute_result"
    }
   ],
   "source": [
    "ob_df.head()"
   ]
  },
  {
   "cell_type": "code",
   "execution_count": 21,
   "metadata": {},
   "outputs": [],
   "source": [
    "conv_ob_df = conv_df_clean.merge(ob_df,\n",
    "                                 how = 'left',\n",
    "                                 left_on= 'NÚMERO CONVÊNIO',\n",
    "                                 right_on= 'NÚMERO CONVÊNIO')"
   ]
  },
  {
   "cell_type": "code",
   "execution_count": 22,
   "metadata": {},
   "outputs": [],
   "source": [
    "conv_ob_df['ANO_OB'] = conv_ob_df['DATA EMISSÃO OB'].dt.year\n",
    "#cria uma coluna apenas com os anos"
   ]
  },
  {
   "cell_type": "code",
   "execution_count": 23,
   "metadata": {},
   "outputs": [],
   "source": [
    "conv_ob_df['MES_OB'] = conv_ob_df['DATA EMISSÃO OB'].dt.month\n",
    "#cria uma coluna apenas com os meses"
   ]
  },
  {
   "cell_type": "code",
   "execution_count": 24,
   "metadata": {},
   "outputs": [
    {
     "data": {
      "text/plain": [
       "Index(['NÚMERO CONVÊNIO', 'UF', 'CÓDIGO SIAFI MUNICÍPIO', 'NOME MUNICÍPIO',\n",
       "       'SITUAÇÃO CONVÊNIO', 'NÚMERO ORIGINAL_x', 'OBJETO DO CONVÊNIO',\n",
       "       'CÓDIGO ÓRGÃO SUPERIOR', 'NOME ÓRGÃO SUPERIOR',\n",
       "       'CÓDIGO ÓRGÃO CONCEDENTE', 'NOME ÓRGÃO CONCEDENTE', 'CÓDIGO CONVENENTE',\n",
       "       'NOME CONVENENTE', 'TIPO ENTE CONVENENTE', 'TIPO INSTRUMENTO',\n",
       "       'VALOR CONVÊNIO', 'VALOR LIBERADO_x', 'DATA PUBLICAÇÃO',\n",
       "       'DATA INÍCIO VIGÊNCIA', 'DATA FINAL VIGÊNCIA', 'VALOR CONTRAPARTIDA',\n",
       "       'DATA ÚLTIMA LIBERAÇÃO', 'VALOR ÚLTIMA LIBERAÇÃO', 'NÚMERO ORIGINAL_y',\n",
       "       'DATA EMISSÃO OB', 'NÚMERO DA ORDEM BANCÁRIA', 'VALOR LIBERADO_y',\n",
       "       'ANO_OB', 'MES_OB'],\n",
       "      dtype='object')"
      ]
     },
     "execution_count": 24,
     "metadata": {},
     "output_type": "execute_result"
    }
   ],
   "source": [
    "conv_ob_df.columns"
   ]
  },
  {
   "cell_type": "code",
   "execution_count": 25,
   "metadata": {},
   "outputs": [],
   "source": [
    "conv_ob_df = conv_ob_df.rename(columns={'VALOR LIBERADO_x': 'VALOR ACUMULADO',\n",
    "                                        'VALOR LIBERADO_y': 'VALOR LIBERADO_OB'})"
   ]
  },
  {
   "cell_type": "code",
   "execution_count": 26,
   "metadata": {},
   "outputs": [],
   "source": [
    "cols_df = ['NÚMERO CONVÊNIO', 'UF', 'CÓDIGO SIAFI MUNICÍPIO', 'NOME MUNICÍPIO', 'SITUAÇÃO CONVÊNIO', 'OBJETO DO CONVÊNIO',\n",
    "           'CÓDIGO ÓRGÃO SUPERIOR', 'NOME ÓRGÃO SUPERIOR', 'CÓDIGO ÓRGÃO CONCEDENTE', 'NOME ÓRGÃO CONCEDENTE', \n",
    "           'CÓDIGO CONVENENTE','NOME CONVENENTE', 'TIPO ENTE CONVENENTE', 'TIPO INSTRUMENTO', \n",
    "           'DATA PUBLICAÇÃO', 'DATA INÍCIO VIGÊNCIA', 'DATA FINAL VIGÊNCIA', 'DATA ÚLTIMA LIBERAÇÃO', 'DATA EMISSÃO OB',\n",
    "           'VALOR CONVÊNIO', 'VALOR ACUMULADO', 'VALOR CONTRAPARTIDA','VALOR LIBERADO_OB', \n",
    "           'ANO_OB', 'MES_OB']\n",
    "\n",
    "#seleciona e ordena colunas para novo dataframe"
   ]
  },
  {
   "cell_type": "code",
   "execution_count": 27,
   "metadata": {},
   "outputs": [
    {
     "data": {
      "text/html": [
       "<div>\n",
       "<style scoped>\n",
       "    .dataframe tbody tr th:only-of-type {\n",
       "        vertical-align: middle;\n",
       "    }\n",
       "\n",
       "    .dataframe tbody tr th {\n",
       "        vertical-align: top;\n",
       "    }\n",
       "\n",
       "    .dataframe thead th {\n",
       "        text-align: right;\n",
       "    }\n",
       "</style>\n",
       "<table border=\"1\" class=\"dataframe\">\n",
       "  <thead>\n",
       "    <tr style=\"text-align: right;\">\n",
       "      <th></th>\n",
       "      <th>NÚMERO CONVÊNIO</th>\n",
       "      <th>UF</th>\n",
       "      <th>CÓDIGO SIAFI MUNICÍPIO</th>\n",
       "      <th>NOME MUNICÍPIO</th>\n",
       "      <th>SITUAÇÃO CONVÊNIO</th>\n",
       "      <th>OBJETO DO CONVÊNIO</th>\n",
       "      <th>CÓDIGO ÓRGÃO SUPERIOR</th>\n",
       "      <th>NOME ÓRGÃO SUPERIOR</th>\n",
       "      <th>CÓDIGO ÓRGÃO CONCEDENTE</th>\n",
       "      <th>NOME ÓRGÃO CONCEDENTE</th>\n",
       "      <th>...</th>\n",
       "      <th>DATA INÍCIO VIGÊNCIA</th>\n",
       "      <th>DATA FINAL VIGÊNCIA</th>\n",
       "      <th>DATA ÚLTIMA LIBERAÇÃO</th>\n",
       "      <th>DATA EMISSÃO OB</th>\n",
       "      <th>VALOR CONVÊNIO</th>\n",
       "      <th>VALOR ACUMULADO</th>\n",
       "      <th>VALOR CONTRAPARTIDA</th>\n",
       "      <th>VALOR LIBERADO_OB</th>\n",
       "      <th>ANO_OB</th>\n",
       "      <th>MES_OB</th>\n",
       "    </tr>\n",
       "  </thead>\n",
       "  <tbody>\n",
       "    <tr>\n",
       "      <th>0</th>\n",
       "      <td>104141</td>\n",
       "      <td>SP</td>\n",
       "      <td>6689</td>\n",
       "      <td>MAUA</td>\n",
       "      <td>CONCLUÍDO</td>\n",
       "      <td>CONVENIO CELEBRADO ENTRE A FAE E A PM DE MAUA/...</td>\n",
       "      <td>26000</td>\n",
       "      <td>Ministério da Educação</td>\n",
       "      <td>26298</td>\n",
       "      <td>Fundo Nacional de Desenvolvimento da Educação</td>\n",
       "      <td>...</td>\n",
       "      <td>1996-02-28</td>\n",
       "      <td>1999-02-28</td>\n",
       "      <td>1995-07-12</td>\n",
       "      <td>NaT</td>\n",
       "      <td>2110457.00</td>\n",
       "      <td>2054267.71</td>\n",
       "      <td>0.0</td>\n",
       "      <td>NaN</td>\n",
       "      <td>NaN</td>\n",
       "      <td>NaN</td>\n",
       "    </tr>\n",
       "    <tr>\n",
       "      <th>1</th>\n",
       "      <td>104773</td>\n",
       "      <td>RS</td>\n",
       "      <td>8963</td>\n",
       "      <td>VIAMAO</td>\n",
       "      <td>ADIMPLENTE</td>\n",
       "      <td>CONVENIO CELEBRADO ENTRE A FAE E P.M. DE VIAMA...</td>\n",
       "      <td>26000</td>\n",
       "      <td>Ministério da Educação</td>\n",
       "      <td>26298</td>\n",
       "      <td>Fundo Nacional de Desenvolvimento da Educação</td>\n",
       "      <td>...</td>\n",
       "      <td>1996-02-27</td>\n",
       "      <td>1999-02-28</td>\n",
       "      <td>1995-12-13</td>\n",
       "      <td>NaT</td>\n",
       "      <td>515877.96</td>\n",
       "      <td>406200.76</td>\n",
       "      <td>0.0</td>\n",
       "      <td>NaN</td>\n",
       "      <td>NaN</td>\n",
       "      <td>NaN</td>\n",
       "    </tr>\n",
       "    <tr>\n",
       "      <th>2</th>\n",
       "      <td>112236</td>\n",
       "      <td>PE</td>\n",
       "      <td>2531</td>\n",
       "      <td>RECIFE</td>\n",
       "      <td>CONCLUÍDO</td>\n",
       "      <td>EXECUCAO DE OBRAS E SERVICOS DE CONSTRUCAO ROD...</td>\n",
       "      <td>39000</td>\n",
       "      <td>Ministério dos Transportes, Portos e Aviação C...</td>\n",
       "      <td>39252</td>\n",
       "      <td>Departamento Nacional de Infraestrutura de Tra...</td>\n",
       "      <td>...</td>\n",
       "      <td>2002-11-15</td>\n",
       "      <td>2005-06-28</td>\n",
       "      <td>2004-12-28</td>\n",
       "      <td>NaT</td>\n",
       "      <td>19439537.00</td>\n",
       "      <td>17777924.41</td>\n",
       "      <td>0.0</td>\n",
       "      <td>NaN</td>\n",
       "      <td>NaN</td>\n",
       "      <td>NaN</td>\n",
       "    </tr>\n",
       "    <tr>\n",
       "      <th>3</th>\n",
       "      <td>116570</td>\n",
       "      <td>SP</td>\n",
       "      <td>6219</td>\n",
       "      <td>BAURU</td>\n",
       "      <td>CONCLUÍDO</td>\n",
       "      <td>PROSSEGUIMENTO A OBRA DA NOVA UNIDADE DE INTER...</td>\n",
       "      <td>36000</td>\n",
       "      <td>Ministério da Saúde</td>\n",
       "      <td>36000</td>\n",
       "      <td>Ministério da Saúde - Unidades com vínculo direto</td>\n",
       "      <td>...</td>\n",
       "      <td>1995-12-29</td>\n",
       "      <td>1998-06-30</td>\n",
       "      <td>1994-12-29</td>\n",
       "      <td>NaT</td>\n",
       "      <td>5000000.00</td>\n",
       "      <td>5000000.00</td>\n",
       "      <td>0.0</td>\n",
       "      <td>NaN</td>\n",
       "      <td>NaN</td>\n",
       "      <td>NaN</td>\n",
       "    </tr>\n",
       "    <tr>\n",
       "      <th>4</th>\n",
       "      <td>120304</td>\n",
       "      <td>RJ</td>\n",
       "      <td>6001</td>\n",
       "      <td>RIO DE JANEIRO</td>\n",
       "      <td>CONCLUÍDO</td>\n",
       "      <td>SUPLEMENTACAO DE RECURSOS A FIM DE CUMPRIR OS ...</td>\n",
       "      <td>36000</td>\n",
       "      <td>Ministério da Saúde</td>\n",
       "      <td>36201</td>\n",
       "      <td>Fundação Oswaldo Cruz</td>\n",
       "      <td>...</td>\n",
       "      <td>1995-11-24</td>\n",
       "      <td>2002-02-28</td>\n",
       "      <td>2001-12-19</td>\n",
       "      <td>1996-12-13</td>\n",
       "      <td>12741999.13</td>\n",
       "      <td>11415402.92</td>\n",
       "      <td>0.0</td>\n",
       "      <td>-151160.23</td>\n",
       "      <td>1996.0</td>\n",
       "      <td>12.0</td>\n",
       "    </tr>\n",
       "  </tbody>\n",
       "</table>\n",
       "<p>5 rows × 25 columns</p>\n",
       "</div>"
      ],
      "text/plain": [
       "   NÚMERO CONVÊNIO  UF  CÓDIGO SIAFI MUNICÍPIO  NOME MUNICÍPIO  \\\n",
       "0           104141  SP                    6689            MAUA   \n",
       "1           104773  RS                    8963          VIAMAO   \n",
       "2           112236  PE                    2531          RECIFE   \n",
       "3           116570  SP                    6219           BAURU   \n",
       "4           120304  RJ                    6001  RIO DE JANEIRO   \n",
       "\n",
       "  SITUAÇÃO CONVÊNIO                                 OBJETO DO CONVÊNIO  \\\n",
       "0         CONCLUÍDO  CONVENIO CELEBRADO ENTRE A FAE E A PM DE MAUA/...   \n",
       "1        ADIMPLENTE  CONVENIO CELEBRADO ENTRE A FAE E P.M. DE VIAMA...   \n",
       "2         CONCLUÍDO  EXECUCAO DE OBRAS E SERVICOS DE CONSTRUCAO ROD...   \n",
       "3         CONCLUÍDO  PROSSEGUIMENTO A OBRA DA NOVA UNIDADE DE INTER...   \n",
       "4         CONCLUÍDO  SUPLEMENTACAO DE RECURSOS A FIM DE CUMPRIR OS ...   \n",
       "\n",
       "   CÓDIGO ÓRGÃO SUPERIOR                                NOME ÓRGÃO SUPERIOR  \\\n",
       "0                  26000                             Ministério da Educação   \n",
       "1                  26000                             Ministério da Educação   \n",
       "2                  39000  Ministério dos Transportes, Portos e Aviação C...   \n",
       "3                  36000                                Ministério da Saúde   \n",
       "4                  36000                                Ministério da Saúde   \n",
       "\n",
       "   CÓDIGO ÓRGÃO CONCEDENTE                              NOME ÓRGÃO CONCEDENTE  \\\n",
       "0                    26298      Fundo Nacional de Desenvolvimento da Educação   \n",
       "1                    26298      Fundo Nacional de Desenvolvimento da Educação   \n",
       "2                    39252  Departamento Nacional de Infraestrutura de Tra...   \n",
       "3                    36000  Ministério da Saúde - Unidades com vínculo direto   \n",
       "4                    36201                              Fundação Oswaldo Cruz   \n",
       "\n",
       "   ... DATA INÍCIO VIGÊNCIA DATA FINAL VIGÊNCIA DATA ÚLTIMA LIBERAÇÃO  \\\n",
       "0  ...           1996-02-28          1999-02-28            1995-07-12   \n",
       "1  ...           1996-02-27          1999-02-28            1995-12-13   \n",
       "2  ...           2002-11-15          2005-06-28            2004-12-28   \n",
       "3  ...           1995-12-29          1998-06-30            1994-12-29   \n",
       "4  ...           1995-11-24          2002-02-28            2001-12-19   \n",
       "\n",
       "  DATA EMISSÃO OB VALOR CONVÊNIO VALOR ACUMULADO VALOR CONTRAPARTIDA  \\\n",
       "0             NaT     2110457.00      2054267.71                 0.0   \n",
       "1             NaT      515877.96       406200.76                 0.0   \n",
       "2             NaT    19439537.00     17777924.41                 0.0   \n",
       "3             NaT     5000000.00      5000000.00                 0.0   \n",
       "4      1996-12-13    12741999.13     11415402.92                 0.0   \n",
       "\n",
       "  VALOR LIBERADO_OB  ANO_OB  MES_OB  \n",
       "0               NaN     NaN     NaN  \n",
       "1               NaN     NaN     NaN  \n",
       "2               NaN     NaN     NaN  \n",
       "3               NaN     NaN     NaN  \n",
       "4        -151160.23  1996.0    12.0  \n",
       "\n",
       "[5 rows x 25 columns]"
      ]
     },
     "execution_count": 27,
     "metadata": {},
     "output_type": "execute_result"
    }
   ],
   "source": [
    "conv_ob_df_clean = conv_ob_df[cols_df]\n",
    "conv_ob_df_clean.head()"
   ]
  },
  {
   "cell_type": "markdown",
   "metadata": {},
   "source": [
    "## Algumas análises básicas"
   ]
  },
  {
   "cell_type": "markdown",
   "metadata": {},
   "source": [
    "vou deixar as análises para a Parte 2 desde tutorial. A seguir, apenas algumas análises ainda com objetivo de explorar a situação da base de dados."
   ]
  },
  {
   "cell_type": "markdown",
   "metadata": {},
   "source": [
    "### Quanto foi liberado por tipo de convênio em toda a série histórica? "
   ]
  },
  {
   "cell_type": "code",
   "execution_count": 28,
   "metadata": {},
   "outputs": [
    {
     "data": {
      "text/plain": [
       "TIPO INSTRUMENTO\n",
       "ACORDO DE COOPERACAO TECNICA    1.297433e+10\n",
       "CONTRATO DE REPASSE             1.476726e+10\n",
       "CONVENIO                        4.234254e+10\n",
       "Não se aplica                   6.615595e+10\n",
       "Sem informação                  9.062859e+10\n",
       "TERMO DE COMPROMISSO            4.574876e+10\n",
       "TERMO DE PARCERIA               2.847792e+08\n",
       "TRANSFERENCIA LEGAL             1.594627e+09\n",
       "Name: VALOR LIBERADO_OB, dtype: float64"
      ]
     },
     "execution_count": 28,
     "metadata": {},
     "output_type": "execute_result"
    }
   ],
   "source": [
    "conv_tipo = conv_ob_df_clean.groupby(['TIPO INSTRUMENTO'])['VALOR LIBERADO_OB'].sum()\n",
    "conv_tipo"
   ]
  },
  {
   "cell_type": "code",
   "execution_count": 29,
   "metadata": {},
   "outputs": [
    {
     "data": {
      "text/plain": [
       "<matplotlib.axes._subplots.AxesSubplot at 0x1e6dae30b00>"
      ]
     },
     "execution_count": 29,
     "metadata": {},
     "output_type": "execute_result"
    },
    {
     "data": {
      "image/png": "[encoded data removed]",
      "text/plain": [
       "<Figure size 432x288 with 1 Axes>"
      ]
     },
     "metadata": {
      "needs_background": "light"
     },
     "output_type": "display_data"
    }
   ],
   "source": [
    "conv_tipo.plot.bar()"
   ]
  },
  {
   "cell_type": "markdown",
   "metadata": {},
   "source": [
    "\"Não se aplica\" e \"Sem informação\" não parecem seguir um padrão para o tipo de convênio a que se referem. E são mais frequentes pré-2001. \n",
    "\n",
    "No período houve uma mudança importante na legislação: o Marco Regulatório das OSCs. O nome Termo de Parceria (introduzido na nova legislação, a partir de 2016, aparece já em 2003. Era outro tipo de instrumento ou foi feito um \"DE-PARA\" na base de dados para instrumentos anteriores? Seria importante a base vir contextualizada dessa informação. "
   ]
  },
  {
   "cell_type": "code",
   "execution_count": 41,
   "metadata": {},
   "outputs": [
    {
     "data": {
      "text/plain": [
       "<matplotlib.axes._subplots.AxesSubplot at 0x1e6a0695ac8>"
      ]
     },
     "execution_count": 41,
     "metadata": {},
     "output_type": "execute_result"
    },
    {
     "data": {
      "image/png": "[encoded data removed]",
      "text/plain": [
       "<Figure size 432x288 with 1 Axes>"
      ]
     },
     "metadata": {},
     "output_type": "display_data"
    }
   ],
   "source": [
    "conv_tipo_clean = conv_tipo.drop(['Não se aplica', \"Sem informação\"])\n",
    "conv_tipo_clean.plot.bar()\n",
    "\n",
    "#Sem os tipos \"Não se aplica\" e \"Sem informação\""
   ]
  },
  {
   "cell_type": "markdown",
   "metadata": {},
   "source": [
    "### Quanto foi liberado em convênios por ano e por tipo de convênio? "
   ]
  },
  {
   "cell_type": "code",
   "execution_count": 30,
   "metadata": {},
   "outputs": [],
   "source": [
    "conv_ano_tipo = conv_ob_df_clean.groupby([conv_ob_df_clean['DATA EMISSÃO OB'].dt.year, 'TIPO INSTRUMENTO'])['VALOR LIBERADO_OB'].sum()"
   ]
  },
  {
   "cell_type": "code",
   "execution_count": 31,
   "metadata": {},
   "outputs": [
    {
     "data": {
      "text/plain": [
       "DATA EMISSÃO OB  TIPO INSTRUMENTO            \n",
       "1995.0           CONVENIO                        4.639720e+06\n",
       "                 Sem informação                  2.270675e+07\n",
       "1996.0           CONVENIO                        1.844257e+08\n",
       "                 Sem informação                  2.237020e+09\n",
       "1997.0           CONVENIO                        1.541994e+08\n",
       "                 Sem informação                  2.694562e+09\n",
       "1998.0           CONVENIO                        4.097765e+08\n",
       "                 Sem informação                  4.543074e+09\n",
       "1999.0           ACORDO DE COOPERACAO TECNICA    2.500000e+06\n",
       "                 CONTRATO DE REPASSE             2.453811e+07\n",
       "                 CONVENIO                        4.471156e+08\n",
       "                 Sem informação                  4.624955e+09\n",
       "2000.0           ACORDO DE COOPERACAO TECNICA    6.816500e+06\n",
       "                 CONTRATO DE REPASSE             8.959852e+06\n",
       "                 CONVENIO                        5.838415e+08\n",
       "                 Sem informação                  5.876815e+09\n",
       "2001.0           ACORDO DE COOPERACAO TECNICA    1.658764e+07\n",
       "                 CONTRATO DE REPASSE             5.467483e+07\n",
       "                 CONVENIO                        5.780399e+08\n",
       "                 Sem informação                  6.903647e+09\n",
       "2002.0           ACORDO DE COOPERACAO TECNICA    9.268000e+06\n",
       "                 CONTRATO DE REPASSE             1.180195e+08\n",
       "                 CONVENIO                        2.795049e+09\n",
       "                 Sem informação                  6.740951e+09\n",
       "                 TERMO DE PARCERIA               4.000000e+06\n",
       "2003.0           ACORDO DE COOPERACAO TECNICA    5.299000e+06\n",
       "                 CONTRATO DE REPASSE             6.698183e+07\n",
       "                 CONVENIO                        6.789340e+08\n",
       "                 Sem informação                  2.733114e+09\n",
       "                 TERMO DE COMPROMISSO            2.942579e+06\n",
       "                                                     ...     \n",
       "2015.0           TERMO DE PARCERIA               1.381341e+05\n",
       "                 TRANSFERENCIA LEGAL             1.663292e+08\n",
       "2016.0           ACORDO DE COOPERACAO TECNICA    2.494695e+09\n",
       "                 CONTRATO DE REPASSE             3.817547e+08\n",
       "                 CONVENIO                        1.458176e+09\n",
       "                 Não se aplica                   8.577948e+09\n",
       "                 Sem informação                  1.136118e+07\n",
       "                 TERMO DE COMPROMISSO            6.276941e+09\n",
       "                 TERMO DE PARCERIA               2.165171e+06\n",
       "                 TRANSFERENCIA LEGAL             2.717945e+08\n",
       "2017.0           ACORDO DE COOPERACAO TECNICA    2.609199e+09\n",
       "                 CONTRATO DE REPASSE             2.880001e+08\n",
       "                 CONVENIO                        9.051601e+08\n",
       "                 Não se aplica                   9.114140e+09\n",
       "                 TERMO DE COMPROMISSO            4.369902e+09\n",
       "                 TERMO DE PARCERIA               7.450000e+06\n",
       "                 TRANSFERENCIA LEGAL             3.187376e+08\n",
       "2018.0           ACORDO DE COOPERACAO TECNICA    1.862741e+09\n",
       "                 CONTRATO DE REPASSE             1.606677e+08\n",
       "                 CONVENIO                        5.977785e+08\n",
       "                 Não se aplica                   7.911466e+09\n",
       "                 TERMO DE COMPROMISSO            3.100862e+09\n",
       "                 TERMO DE PARCERIA               8.274996e+06\n",
       "                 TRANSFERENCIA LEGAL             4.430848e+08\n",
       "2019.0           ACORDO DE COOPERACAO TECNICA    7.499918e+07\n",
       "                 CONTRATO DE REPASSE             1.514671e+07\n",
       "                 CONVENIO                        1.017254e+08\n",
       "                 Não se aplica                   2.123107e+09\n",
       "                 TERMO DE COMPROMISSO            6.400029e+08\n",
       "                 TRANSFERENCIA LEGAL             8.223601e+07\n",
       "Name: VALOR LIBERADO_OB, Length: 143, dtype: float64"
      ]
     },
     "execution_count": 31,
     "metadata": {},
     "output_type": "execute_result"
    }
   ],
   "source": [
    "conv_ano_tipo"
   ]
  },
  {
   "cell_type": "markdown",
   "metadata": {},
   "source": [
    "### Quanto foi liberado em convênios no total por ano? "
   ]
  },
  {
   "cell_type": "code",
   "execution_count": 34,
   "metadata": {},
   "outputs": [
    {
     "data": {
      "text/plain": [
       "DATA EMISSÃO OB\n",
       "1995.0    2.734647e+07\n",
       "1996.0    2.421446e+09\n",
       "1997.0    2.848762e+09\n",
       "1998.0    4.952850e+09\n",
       "1999.0    5.099109e+09\n",
       "2000.0    6.476433e+09\n",
       "2001.0    7.552949e+09\n",
       "2002.0    9.667288e+09\n",
       "2003.0    3.489305e+09\n",
       "2004.0    7.068232e+09\n",
       "2005.0    7.288592e+09\n",
       "2006.0    1.009364e+10\n",
       "2007.0    1.172700e+10\n",
       "2008.0    1.640954e+10\n",
       "2009.0    1.614317e+10\n",
       "2010.0    2.014626e+10\n",
       "2011.0    1.695974e+10\n",
       "2012.0    1.997892e+10\n",
       "2013.0    1.773351e+10\n",
       "2014.0    1.941670e+10\n",
       "2015.0    1.478654e+10\n",
       "2016.0    1.947484e+10\n",
       "2017.0    1.761259e+10\n",
       "2018.0    1.408487e+10\n",
       "2019.0    3.037217e+09\n",
       "Name: VALOR LIBERADO_OB, dtype: float64"
      ]
     },
     "execution_count": 34,
     "metadata": {},
     "output_type": "execute_result"
    }
   ],
   "source": [
    "conv_ano = conv_ob_df_clean.groupby(conv_ob_df_clean['DATA EMISSÃO OB'].dt.year)['VALOR LIBERADO_OB'].sum()\n",
    "conv_ano"
   ]
  },
  {
   "cell_type": "code",
   "execution_count": 39,
   "metadata": {},
   "outputs": [
    {
     "data": {
      "image/png": "[encoded data removed]",
      "text/plain": [
       "<Figure size 432x288 with 1 Axes>"
      ]
     },
     "metadata": {},
     "output_type": "display_data"
    }
   ],
   "source": [
    "sns.set_style(\"whitegrid\")\n",
    "\n",
    "ax = sns.lineplot(data=conv_ano, color=\"coral\", label=\"Valor Liberado\")"
   ]
  },
  {
   "cell_type": "markdown",
   "metadata": {},
   "source": [
    "## Algumas sugestões de melhoria para publicação dos dados\n",
    "\n",
    "\n",
    "1. Rever os valores discrepantes e muito provavelmente equivocados (acima de bilhão e sobretudo trilhão)\n",
    "2. Incluir documento (nota técnica) ou endereço de página web que possa contextualizar o funcionamento dos convênios e a legislação relacionada, mudanças ao longo dos anos etc (ex: Termo de Parceria é pós-MROSC ou a nomenclatura de anos anteriores foi substituída também?)\n",
    "3. No dicionário de dados, detalhar o significado de cada categoria da coluna 'SITUAÇÃO DO CONVÊNIO'.\n",
    "4. No dicionário de dados, falta especificar a coluna 'TIPO INSTRUMENTO' e detalhar as categorias existentes. Por que em gramde parte está não se aplica ou está com 'Sem informação'?\n",
    "4. Importante: está faltando uma coluna importante no dataset! \"Tipo Convenente\" - Tem apenas para tipo de ente federado (se estado ou município). Falta coluna que diga se é organização social, etc.\n",
    "4. Rever o nome das variáveis para minúsculas, sem espaços e caracteres especiais (boa prática)"
   ]
  },
  {
   "cell_type": "markdown",
   "metadata": {},
   "source": [
    "### Mais análises na Parte 2 - em breve!"
   ]
  }
 ],
 "metadata": {
  "kernelspec": {
   "display_name": "Python 3",
   "language": "python",
   "name": "python3"
  },
  "language_info": {
   "codemirror_mode": {
    "name": "ipython",
    "version": 3
   },
   "file_extension": ".py",
   "mimetype": "text/x-python",
   "name": "python",
   "nbconvert_exporter": "python",
   "pygments_lexer": "ipython3",
   "version": "3.7.3"
  }
 },
 "nbformat": 4,
 "nbformat_minor": 2
}
